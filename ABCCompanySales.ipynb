{
 "cells": [
  {
   "cell_type": "code",
   "execution_count": 1,
   "id": "1d010b20",
   "metadata": {},
   "outputs": [],
   "source": [
    "import pandas as pd\n",
    "import numpy as np\n",
    "import seaborn as sns\n",
    "from matplotlib import pyplot as plt"
   ]
  },
  {
   "cell_type": "code",
   "execution_count": 2,
   "id": "aeb5eab0",
   "metadata": {},
   "outputs": [],
   "source": [
    "sales = pd.read_csv(\"CompanySales.csv\")"
   ]
  },
  {
   "cell_type": "code",
   "execution_count": 3,
   "id": "5e18158d",
   "metadata": {},
   "outputs": [
    {
     "data": {
      "text/html": [
       "<div>\n",
       "<style scoped>\n",
       "    .dataframe tbody tr th:only-of-type {\n",
       "        vertical-align: middle;\n",
       "    }\n",
       "\n",
       "    .dataframe tbody tr th {\n",
       "        vertical-align: top;\n",
       "    }\n",
       "\n",
       "    .dataframe thead th {\n",
       "        text-align: right;\n",
       "    }\n",
       "</style>\n",
       "<table border=\"1\" class=\"dataframe\">\n",
       "  <thead>\n",
       "    <tr style=\"text-align: right;\">\n",
       "      <th></th>\n",
       "      <th>Intelligence</th>\n",
       "      <th>Extroversion</th>\n",
       "      <th>WeeklySales</th>\n",
       "    </tr>\n",
       "  </thead>\n",
       "  <tbody>\n",
       "    <tr>\n",
       "      <th>0</th>\n",
       "      <td>89</td>\n",
       "      <td>21</td>\n",
       "      <td>2625</td>\n",
       "    </tr>\n",
       "    <tr>\n",
       "      <th>1</th>\n",
       "      <td>93</td>\n",
       "      <td>24</td>\n",
       "      <td>2700</td>\n",
       "    </tr>\n",
       "    <tr>\n",
       "      <th>2</th>\n",
       "      <td>91</td>\n",
       "      <td>21</td>\n",
       "      <td>3100</td>\n",
       "    </tr>\n",
       "    <tr>\n",
       "      <th>3</th>\n",
       "      <td>122</td>\n",
       "      <td>23</td>\n",
       "      <td>3150</td>\n",
       "    </tr>\n",
       "    <tr>\n",
       "      <th>4</th>\n",
       "      <td>115</td>\n",
       "      <td>27</td>\n",
       "      <td>3175</td>\n",
       "    </tr>\n",
       "  </tbody>\n",
       "</table>\n",
       "</div>"
      ],
      "text/plain": [
       "   Intelligence  Extroversion  WeeklySales\n",
       "0            89            21         2625\n",
       "1            93            24         2700\n",
       "2            91            21         3100\n",
       "3           122            23         3150\n",
       "4           115            27         3175"
      ]
     },
     "execution_count": 3,
     "metadata": {},
     "output_type": "execute_result"
    }
   ],
   "source": [
    "sales.head()"
   ]
  },
  {
   "cell_type": "code",
   "execution_count": 4,
   "id": "47f71c27",
   "metadata": {},
   "outputs": [
    {
     "data": {
      "text/html": [
       "<div>\n",
       "<style scoped>\n",
       "    .dataframe tbody tr th:only-of-type {\n",
       "        vertical-align: middle;\n",
       "    }\n",
       "\n",
       "    .dataframe tbody tr th {\n",
       "        vertical-align: top;\n",
       "    }\n",
       "\n",
       "    .dataframe thead th {\n",
       "        text-align: right;\n",
       "    }\n",
       "</style>\n",
       "<table border=\"1\" class=\"dataframe\">\n",
       "  <thead>\n",
       "    <tr style=\"text-align: right;\">\n",
       "      <th></th>\n",
       "      <th>Intelligence</th>\n",
       "      <th>Extroversion</th>\n",
       "      <th>WeeklySales</th>\n",
       "    </tr>\n",
       "  </thead>\n",
       "  <tbody>\n",
       "    <tr>\n",
       "      <th>15</th>\n",
       "      <td>115</td>\n",
       "      <td>29</td>\n",
       "      <td>2750</td>\n",
       "    </tr>\n",
       "    <tr>\n",
       "      <th>16</th>\n",
       "      <td>113</td>\n",
       "      <td>25</td>\n",
       "      <td>3150</td>\n",
       "    </tr>\n",
       "    <tr>\n",
       "      <th>17</th>\n",
       "      <td>88</td>\n",
       "      <td>23</td>\n",
       "      <td>2600</td>\n",
       "    </tr>\n",
       "    <tr>\n",
       "      <th>18</th>\n",
       "      <td>108</td>\n",
       "      <td>19</td>\n",
       "      <td>2525</td>\n",
       "    </tr>\n",
       "    <tr>\n",
       "      <th>19</th>\n",
       "      <td>101</td>\n",
       "      <td>16</td>\n",
       "      <td>2650</td>\n",
       "    </tr>\n",
       "  </tbody>\n",
       "</table>\n",
       "</div>"
      ],
      "text/plain": [
       "    Intelligence  Extroversion  WeeklySales\n",
       "15           115            29         2750\n",
       "16           113            25         3150\n",
       "17            88            23         2600\n",
       "18           108            19         2525\n",
       "19           101            16         2650"
      ]
     },
     "execution_count": 4,
     "metadata": {},
     "output_type": "execute_result"
    }
   ],
   "source": [
    "sales.tail()"
   ]
  },
  {
   "cell_type": "code",
   "execution_count": 5,
   "id": "430f000e",
   "metadata": {},
   "outputs": [
    {
     "data": {
      "text/html": [
       "<div>\n",
       "<style scoped>\n",
       "    .dataframe tbody tr th:only-of-type {\n",
       "        vertical-align: middle;\n",
       "    }\n",
       "\n",
       "    .dataframe tbody tr th {\n",
       "        vertical-align: top;\n",
       "    }\n",
       "\n",
       "    .dataframe thead th {\n",
       "        text-align: right;\n",
       "    }\n",
       "</style>\n",
       "<table border=\"1\" class=\"dataframe\">\n",
       "  <thead>\n",
       "    <tr style=\"text-align: right;\">\n",
       "      <th></th>\n",
       "      <th>Intelligence</th>\n",
       "      <th>Extroversion</th>\n",
       "      <th>WeeklySales</th>\n",
       "    </tr>\n",
       "  </thead>\n",
       "  <tbody>\n",
       "    <tr>\n",
       "      <th>count</th>\n",
       "      <td>20.000000</td>\n",
       "      <td>20.000000</td>\n",
       "      <td>20.000000</td>\n",
       "    </tr>\n",
       "    <tr>\n",
       "      <th>mean</th>\n",
       "      <td>105.250000</td>\n",
       "      <td>22.550000</td>\n",
       "      <td>2980.000000</td>\n",
       "    </tr>\n",
       "    <tr>\n",
       "      <th>std</th>\n",
       "      <td>11.068566</td>\n",
       "      <td>3.953346</td>\n",
       "      <td>390.394537</td>\n",
       "    </tr>\n",
       "    <tr>\n",
       "      <th>min</th>\n",
       "      <td>88.000000</td>\n",
       "      <td>16.000000</td>\n",
       "      <td>2425.000000</td>\n",
       "    </tr>\n",
       "    <tr>\n",
       "      <th>25%</th>\n",
       "      <td>97.750000</td>\n",
       "      <td>19.750000</td>\n",
       "      <td>2643.750000</td>\n",
       "    </tr>\n",
       "    <tr>\n",
       "      <th>50%</th>\n",
       "      <td>104.500000</td>\n",
       "      <td>23.000000</td>\n",
       "      <td>3062.500000</td>\n",
       "    </tr>\n",
       "    <tr>\n",
       "      <th>75%</th>\n",
       "      <td>112.250000</td>\n",
       "      <td>25.250000</td>\n",
       "      <td>3187.500000</td>\n",
       "    </tr>\n",
       "    <tr>\n",
       "      <th>max</th>\n",
       "      <td>130.000000</td>\n",
       "      <td>29.000000</td>\n",
       "      <td>3625.000000</td>\n",
       "    </tr>\n",
       "  </tbody>\n",
       "</table>\n",
       "</div>"
      ],
      "text/plain": [
       "       Intelligence  Extroversion  WeeklySales\n",
       "count     20.000000     20.000000    20.000000\n",
       "mean     105.250000     22.550000  2980.000000\n",
       "std       11.068566      3.953346   390.394537\n",
       "min       88.000000     16.000000  2425.000000\n",
       "25%       97.750000     19.750000  2643.750000\n",
       "50%      104.500000     23.000000  3062.500000\n",
       "75%      112.250000     25.250000  3187.500000\n",
       "max      130.000000     29.000000  3625.000000"
      ]
     },
     "execution_count": 5,
     "metadata": {},
     "output_type": "execute_result"
    }
   ],
   "source": [
    "sales.describe()"
   ]
  },
  {
   "cell_type": "code",
   "execution_count": 6,
   "id": "d88e140d",
   "metadata": {},
   "outputs": [
    {
     "data": {
      "text/plain": [
       "(20, 3)"
      ]
     },
     "execution_count": 6,
     "metadata": {},
     "output_type": "execute_result"
    }
   ],
   "source": [
    "sales.shape"
   ]
  },
  {
   "cell_type": "code",
   "execution_count": 7,
   "id": "0bd8d921",
   "metadata": {},
   "outputs": [
    {
     "data": {
      "text/html": [
       "<div>\n",
       "<style scoped>\n",
       "    .dataframe tbody tr th:only-of-type {\n",
       "        vertical-align: middle;\n",
       "    }\n",
       "\n",
       "    .dataframe tbody tr th {\n",
       "        vertical-align: top;\n",
       "    }\n",
       "\n",
       "    .dataframe thead th {\n",
       "        text-align: right;\n",
       "    }\n",
       "</style>\n",
       "<table border=\"1\" class=\"dataframe\">\n",
       "  <thead>\n",
       "    <tr style=\"text-align: right;\">\n",
       "      <th></th>\n",
       "      <th>Intelligence</th>\n",
       "      <th>Extroversion</th>\n",
       "      <th>WeeklySales</th>\n",
       "    </tr>\n",
       "  </thead>\n",
       "  <tbody>\n",
       "    <tr>\n",
       "      <th>Intelligence</th>\n",
       "      <td>1.000000</td>\n",
       "      <td>0.191544</td>\n",
       "      <td>0.329472</td>\n",
       "    </tr>\n",
       "    <tr>\n",
       "      <th>Extroversion</th>\n",
       "      <td>0.191544</td>\n",
       "      <td>1.000000</td>\n",
       "      <td>0.548017</td>\n",
       "    </tr>\n",
       "    <tr>\n",
       "      <th>WeeklySales</th>\n",
       "      <td>0.329472</td>\n",
       "      <td>0.548017</td>\n",
       "      <td>1.000000</td>\n",
       "    </tr>\n",
       "  </tbody>\n",
       "</table>\n",
       "</div>"
      ],
      "text/plain": [
       "              Intelligence  Extroversion  WeeklySales\n",
       "Intelligence      1.000000      0.191544     0.329472\n",
       "Extroversion      0.191544      1.000000     0.548017\n",
       "WeeklySales       0.329472      0.548017     1.000000"
      ]
     },
     "execution_count": 7,
     "metadata": {},
     "output_type": "execute_result"
    }
   ],
   "source": [
    "sales.corr()"
   ]
  },
  {
   "cell_type": "code",
   "execution_count": 11,
   "id": "bbe31473",
   "metadata": {},
   "outputs": [
    {
     "data": {
      "image/png": "[encoded data removed]",
      "text/plain": [
       "<Figure size 705.6x504 with 2 Axes>"
      ]
     },
     "metadata": {
      "needs_background": "light"
     },
     "output_type": "display_data"
    }
   ],
   "source": [
    "sns.pairplot(sales,x_vars=['Intelligence','Extroversion'],y_vars='WeeklySales',kind='reg',height=7, aspect=0.7);"
   ]
  },
  {
   "cell_type": "code",
   "execution_count": 13,
   "id": "0c2e5536",
   "metadata": {},
   "outputs": [
    {
     "data": {
      "image/png": "[encoded data removed]",
      "text/plain": [
       "<Figure size 432x288 with 2 Axes>"
      ]
     },
     "metadata": {
      "needs_background": "light"
     },
     "output_type": "display_data"
    }
   ],
   "source": [
    "sns.heatmap(sales.corr(),cmap=\"YlGnBu\",annot=True)\n",
    "plt.show()"
   ]
  },
  {
   "cell_type": "code",
   "execution_count": 14,
   "id": "05ab0c68",
   "metadata": {},
   "outputs": [],
   "source": [
    "featureVar = ['Intelligence','Extroversion']\n",
    "x = sales[featureVar]"
   ]
  },
  {
   "cell_type": "code",
   "execution_count": 15,
   "id": "6b2e5564",
   "metadata": {},
   "outputs": [],
   "source": [
    "y = sales['WeeklySales']"
   ]
  },
  {
   "cell_type": "code",
   "execution_count": 16,
   "id": "e5b533a9",
   "metadata": {},
   "outputs": [],
   "source": [
    "from sklearn.linear_model import LinearRegression"
   ]
  },
  {
   "cell_type": "code",
   "execution_count": 17,
   "id": "bdb7a68c",
   "metadata": {},
   "outputs": [],
   "source": [
    "linreg = LinearRegression()"
   ]
  },
  {
   "cell_type": "code",
   "execution_count": 18,
   "id": "3f6cd9ca",
   "metadata": {},
   "outputs": [
    {
     "data": {
      "text/plain": [
       "LinearRegression()"
      ]
     },
     "execution_count": 18,
     "metadata": {},
     "output_type": "execute_result"
    }
   ],
   "source": [
    "linreg.fit(x,y)"
   ]
  },
  {
   "cell_type": "code",
   "execution_count": 19,
   "id": "21043c55",
   "metadata": {},
   "outputs": [
    {
     "data": {
      "text/plain": [
       "993.924562463732"
      ]
     },
     "execution_count": 19,
     "metadata": {},
     "output_type": "execute_result"
    }
   ],
   "source": [
    "# constant or y-intercept\n",
    "linreg.intercept_"
   ]
  },
  {
   "cell_type": "code",
   "execution_count": 20,
   "id": "a60f2146",
   "metadata": {},
   "outputs": [
    {
     "data": {
      "text/plain": [
       "array([ 8.21991191, 49.70863455])"
      ]
     },
     "execution_count": 20,
     "metadata": {},
     "output_type": "execute_result"
    }
   ],
   "source": [
    "#coefficients of the independent variables Intelligence and Extroversion\n",
    "linreg.coef_"
   ]
  },
  {
   "cell_type": "code",
   "execution_count": 21,
   "id": "628f358b",
   "metadata": {},
   "outputs": [],
   "source": [
    "# final equation is \n",
    "# WeeklySales = 8.22 * Intelligence + 49.71 * Extroversion + 993.92"
   ]
  },
  {
   "cell_type": "code",
   "execution_count": 22,
   "id": "f0c387d5",
   "metadata": {},
   "outputs": [
    {
     "data": {
      "text/plain": [
       "array([2769.37804792, 2951.38359919, 2785.81787174, 3140.05241004,\n",
       "       3281.34756485, 2710.67117529, 2743.93998602, 2652.35346575,\n",
       "       3057.85329094, 3281.73672794, 3056.68580168, 3091.51126475,\n",
       "       2842.96809202, 3198.75928267, 3183.09778502, 3380.76483394,\n",
       "       3165.49047194, 2860.5754051 , 2826.13910512, 2619.47381811])"
      ]
     },
     "execution_count": 22,
     "metadata": {},
     "output_type": "execute_result"
    }
   ],
   "source": [
    "#run predictions\n",
    "linreg.predict(x)"
   ]
  },
  {
   "cell_type": "code",
   "execution_count": 24,
   "id": "9cb4161f",
   "metadata": {},
   "outputs": [
    {
     "name": "stdout",
     "output_type": "stream",
     "text": [
      "0.35264314057326307\n"
     ]
    }
   ],
   "source": [
    "# RSquared = Coefficient of Determination\n",
    "# This is the combined (Intelligence & Extroversion) RSquared\n",
    "\n",
    "RSq = linreg.score(x,y)\n",
    "print(RSq)"
   ]
  },
  {
   "cell_type": "code",
   "execution_count": 25,
   "id": "9dbbf673",
   "metadata": {},
   "outputs": [
    {
     "name": "stdout",
     "output_type": "stream",
     "text": [
      "0.5938376382255196\n"
     ]
    }
   ],
   "source": [
    "#R = Correlation Coefficient (combined)\n",
    "import math\n",
    "R = math.sqrt(RSq)\n",
    "print(R)"
   ]
  },
  {
   "cell_type": "code",
   "execution_count": null,
   "id": "26b5fc2e",
   "metadata": {},
   "outputs": [],
   "source": []
  }
 ],
 "metadata": {
  "kernelspec": {
   "display_name": "Python 3",
   "language": "python",
   "name": "python3"
  },
  "language_info": {
   "codemirror_mode": {
    "name": "ipython",
    "version": 3
   },
   "file_extension": ".py",
   "mimetype": "text/x-python",
   "name": "python",
   "nbconvert_exporter": "python",
   "pygments_lexer": "ipython3",
   "version": "3.8.8"
  }
 },
 "nbformat": 4,
 "nbformat_minor": 5
}
